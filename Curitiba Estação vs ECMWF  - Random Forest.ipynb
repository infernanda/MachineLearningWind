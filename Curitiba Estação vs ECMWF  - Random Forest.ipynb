{
 "cells": [
  {
   "cell_type": "markdown",
   "id": "dde08e05",
   "metadata": {},
   "source": [
    "# Extraindo dados do simepar \n",
    "\n",
    "### Estação de Curitiba"
   ]
  },
  {
   "cell_type": "code",
   "execution_count": 24,
   "id": "c2494d6f",
   "metadata": {},
   "outputs": [],
   "source": [
    "import json, requests\n",
    "import pandas as pd\n",
    "from datetime import datetime, timedelta, date\n",
    "import datetime as dt\n",
    "url = \"http://www.simepar.br/simepar-services/sumariodiario\"\n",
    "params = {'datai': '2016-01-01', 'dataf': '2021-12-31', 'estacoes': '25264916', 'sensores': '9', 'operacoes': '2'}\n",
    "response = requests.get(url=url, params=params)\n",
    "data = response.json()\n",
    "features = pd.DataFrame.from_dict(data)\n",
    "features=features.sort_index(ascending=False)\n",
    "features['data'] = features['data'].apply(lambda x: dt.datetime.strptime(x,'%Y-%m-%d'))\n",
    "features['year'] = pd.DatetimeIndex(features['data']).year\n",
    "features['month'] = pd.DatetimeIndex(features['data']).month\n",
    "features['day'] = pd.DatetimeIndex(features['data']).day\n",
    "features = features.fillna(method='ffill')\n",
    "features['valor'] = features['valor']\n",
    "features.drop(['data','estacaoId','sensorId','operacaoId','hora','minuto'], axis=1, inplace=True)"
   ]
  },
  {
   "cell_type": "code",
   "execution_count": 25,
   "id": "3b170b88",
   "metadata": {},
   "outputs": [],
   "source": [
    "import pandas as pd\n",
    "from datetime import datetime, timedelta, date\n",
    "import datetime as dt\n",
    "features2 = pd.read_csv('wind2016-2021teste.csv')\n",
    "features2=features2.sort_index()\n",
    "features['ECMWF'] = features2['wind_speed']"
   ]
  },
  {
   "cell_type": "code",
   "execution_count": 26,
   "id": "58e1c09e",
   "metadata": {},
   "outputs": [
    {
     "data": {
      "text/html": [
       "<div>\n",
       "<style scoped>\n",
       "    .dataframe tbody tr th:only-of-type {\n",
       "        vertical-align: middle;\n",
       "    }\n",
       "\n",
       "    .dataframe tbody tr th {\n",
       "        vertical-align: top;\n",
       "    }\n",
       "\n",
       "    .dataframe thead th {\n",
       "        text-align: right;\n",
       "    }\n",
       "</style>\n",
       "<table border=\"1\" class=\"dataframe\">\n",
       "  <thead>\n",
       "    <tr style=\"text-align: right;\">\n",
       "      <th></th>\n",
       "      <th>time</th>\n",
       "      <th>wind_speed</th>\n",
       "    </tr>\n",
       "  </thead>\n",
       "  <tbody>\n",
       "    <tr>\n",
       "      <th>0</th>\n",
       "      <td>2016-01-01</td>\n",
       "      <td>9.49</td>\n",
       "    </tr>\n",
       "    <tr>\n",
       "      <th>1</th>\n",
       "      <td>2016-01-02</td>\n",
       "      <td>8.20</td>\n",
       "    </tr>\n",
       "    <tr>\n",
       "      <th>2</th>\n",
       "      <td>2016-01-03</td>\n",
       "      <td>9.94</td>\n",
       "    </tr>\n",
       "    <tr>\n",
       "      <th>3</th>\n",
       "      <td>2016-01-04</td>\n",
       "      <td>11.89</td>\n",
       "    </tr>\n",
       "    <tr>\n",
       "      <th>4</th>\n",
       "      <td>2016-01-05</td>\n",
       "      <td>13.39</td>\n",
       "    </tr>\n",
       "    <tr>\n",
       "      <th>...</th>\n",
       "      <td>...</td>\n",
       "      <td>...</td>\n",
       "    </tr>\n",
       "    <tr>\n",
       "      <th>2187</th>\n",
       "      <td>2021-12-27</td>\n",
       "      <td>5.18</td>\n",
       "    </tr>\n",
       "    <tr>\n",
       "      <th>2188</th>\n",
       "      <td>2021-12-28</td>\n",
       "      <td>6.71</td>\n",
       "    </tr>\n",
       "    <tr>\n",
       "      <th>2189</th>\n",
       "      <td>2021-12-29</td>\n",
       "      <td>8.84</td>\n",
       "    </tr>\n",
       "    <tr>\n",
       "      <th>2190</th>\n",
       "      <td>2021-12-30</td>\n",
       "      <td>10.95</td>\n",
       "    </tr>\n",
       "    <tr>\n",
       "      <th>2191</th>\n",
       "      <td>2021-12-31</td>\n",
       "      <td>10.26</td>\n",
       "    </tr>\n",
       "  </tbody>\n",
       "</table>\n",
       "<p>2192 rows × 2 columns</p>\n",
       "</div>"
      ],
      "text/plain": [
       "            time  wind_speed\n",
       "0     2016-01-01        9.49\n",
       "1     2016-01-02        8.20\n",
       "2     2016-01-03        9.94\n",
       "3     2016-01-04       11.89\n",
       "4     2016-01-05       13.39\n",
       "...          ...         ...\n",
       "2187  2021-12-27        5.18\n",
       "2188  2021-12-28        6.71\n",
       "2189  2021-12-29        8.84\n",
       "2190  2021-12-30       10.95\n",
       "2191  2021-12-31       10.26\n",
       "\n",
       "[2192 rows x 2 columns]"
      ]
     },
     "execution_count": 26,
     "metadata": {},
     "output_type": "execute_result"
    }
   ],
   "source": [
    "features2"
   ]
  },
  {
   "cell_type": "code",
   "execution_count": 27,
   "id": "81f14266",
   "metadata": {},
   "outputs": [
    {
     "data": {
      "text/html": [
       "<div>\n",
       "<style scoped>\n",
       "    .dataframe tbody tr th:only-of-type {\n",
       "        vertical-align: middle;\n",
       "    }\n",
       "\n",
       "    .dataframe tbody tr th {\n",
       "        vertical-align: top;\n",
       "    }\n",
       "\n",
       "    .dataframe thead th {\n",
       "        text-align: right;\n",
       "    }\n",
       "</style>\n",
       "<table border=\"1\" class=\"dataframe\">\n",
       "  <thead>\n",
       "    <tr style=\"text-align: right;\">\n",
       "      <th></th>\n",
       "      <th>valor</th>\n",
       "      <th>year</th>\n",
       "      <th>month</th>\n",
       "      <th>day</th>\n",
       "      <th>ECMWF</th>\n",
       "    </tr>\n",
       "  </thead>\n",
       "  <tbody>\n",
       "    <tr>\n",
       "      <th>2190</th>\n",
       "      <td>7.8</td>\n",
       "      <td>2016</td>\n",
       "      <td>1</td>\n",
       "      <td>1</td>\n",
       "      <td>10.95</td>\n",
       "    </tr>\n",
       "    <tr>\n",
       "      <th>2189</th>\n",
       "      <td>7.5</td>\n",
       "      <td>2016</td>\n",
       "      <td>1</td>\n",
       "      <td>2</td>\n",
       "      <td>8.84</td>\n",
       "    </tr>\n",
       "    <tr>\n",
       "      <th>2188</th>\n",
       "      <td>8.6</td>\n",
       "      <td>2016</td>\n",
       "      <td>1</td>\n",
       "      <td>3</td>\n",
       "      <td>6.71</td>\n",
       "    </tr>\n",
       "    <tr>\n",
       "      <th>2187</th>\n",
       "      <td>8.1</td>\n",
       "      <td>2016</td>\n",
       "      <td>1</td>\n",
       "      <td>4</td>\n",
       "      <td>5.18</td>\n",
       "    </tr>\n",
       "    <tr>\n",
       "      <th>2186</th>\n",
       "      <td>7.4</td>\n",
       "      <td>2016</td>\n",
       "      <td>1</td>\n",
       "      <td>5</td>\n",
       "      <td>8.87</td>\n",
       "    </tr>\n",
       "  </tbody>\n",
       "</table>\n",
       "</div>"
      ],
      "text/plain": [
       "      valor  year  month  day  ECMWF\n",
       "2190    7.8  2016      1    1  10.95\n",
       "2189    7.5  2016      1    2   8.84\n",
       "2188    8.6  2016      1    3   6.71\n",
       "2187    8.1  2016      1    4   5.18\n",
       "2186    7.4  2016      1    5   8.87"
      ]
     },
     "execution_count": 27,
     "metadata": {},
     "output_type": "execute_result"
    }
   ],
   "source": [
    "features.head(5)"
   ]
  },
  {
   "cell_type": "markdown",
   "id": "c1a1fe38",
   "metadata": {},
   "source": [
    "# Iniciando o Random Forest"
   ]
  },
  {
   "cell_type": "code",
   "execution_count": 28,
   "id": "1ae238d5",
   "metadata": {},
   "outputs": [
    {
     "name": "stdout",
     "output_type": "stream",
     "text": [
      "The shape of our features is: (2191, 5)\n"
     ]
    }
   ],
   "source": [
    "print('The shape of our features is:', features.shape)"
   ]
  },
  {
   "cell_type": "code",
   "execution_count": 29,
   "id": "b1ffb349",
   "metadata": {},
   "outputs": [
    {
     "data": {
      "text/html": [
       "<div>\n",
       "<style scoped>\n",
       "    .dataframe tbody tr th:only-of-type {\n",
       "        vertical-align: middle;\n",
       "    }\n",
       "\n",
       "    .dataframe tbody tr th {\n",
       "        vertical-align: top;\n",
       "    }\n",
       "\n",
       "    .dataframe thead th {\n",
       "        text-align: right;\n",
       "    }\n",
       "</style>\n",
       "<table border=\"1\" class=\"dataframe\">\n",
       "  <thead>\n",
       "    <tr style=\"text-align: right;\">\n",
       "      <th></th>\n",
       "      <th>valor</th>\n",
       "      <th>year</th>\n",
       "      <th>month</th>\n",
       "      <th>day</th>\n",
       "      <th>ECMWF</th>\n",
       "    </tr>\n",
       "  </thead>\n",
       "  <tbody>\n",
       "    <tr>\n",
       "      <th>count</th>\n",
       "      <td>2191.000000</td>\n",
       "      <td>2191.000000</td>\n",
       "      <td>2191.000000</td>\n",
       "      <td>2191.000000</td>\n",
       "      <td>2191.000000</td>\n",
       "    </tr>\n",
       "    <tr>\n",
       "      <th>mean</th>\n",
       "      <td>8.589457</td>\n",
       "      <td>2018.499772</td>\n",
       "      <td>6.521680</td>\n",
       "      <td>15.739388</td>\n",
       "      <td>9.281698</td>\n",
       "    </tr>\n",
       "    <tr>\n",
       "      <th>std</th>\n",
       "      <td>2.482813</td>\n",
       "      <td>1.708928</td>\n",
       "      <td>3.450546</td>\n",
       "      <td>8.799756</td>\n",
       "      <td>2.710853</td>\n",
       "    </tr>\n",
       "    <tr>\n",
       "      <th>min</th>\n",
       "      <td>3.200000</td>\n",
       "      <td>2016.000000</td>\n",
       "      <td>1.000000</td>\n",
       "      <td>1.000000</td>\n",
       "      <td>2.710000</td>\n",
       "    </tr>\n",
       "    <tr>\n",
       "      <th>25%</th>\n",
       "      <td>7.000000</td>\n",
       "      <td>2017.000000</td>\n",
       "      <td>4.000000</td>\n",
       "      <td>8.000000</td>\n",
       "      <td>7.395000</td>\n",
       "    </tr>\n",
       "    <tr>\n",
       "      <th>50%</th>\n",
       "      <td>8.100000</td>\n",
       "      <td>2019.000000</td>\n",
       "      <td>7.000000</td>\n",
       "      <td>16.000000</td>\n",
       "      <td>9.260000</td>\n",
       "    </tr>\n",
       "    <tr>\n",
       "      <th>75%</th>\n",
       "      <td>9.700000</td>\n",
       "      <td>2020.000000</td>\n",
       "      <td>10.000000</td>\n",
       "      <td>23.000000</td>\n",
       "      <td>11.030000</td>\n",
       "    </tr>\n",
       "    <tr>\n",
       "      <th>max</th>\n",
       "      <td>27.200000</td>\n",
       "      <td>2021.000000</td>\n",
       "      <td>12.000000</td>\n",
       "      <td>31.000000</td>\n",
       "      <td>19.590000</td>\n",
       "    </tr>\n",
       "  </tbody>\n",
       "</table>\n",
       "</div>"
      ],
      "text/plain": [
       "             valor         year        month          day        ECMWF\n",
       "count  2191.000000  2191.000000  2191.000000  2191.000000  2191.000000\n",
       "mean      8.589457  2018.499772     6.521680    15.739388     9.281698\n",
       "std       2.482813     1.708928     3.450546     8.799756     2.710853\n",
       "min       3.200000  2016.000000     1.000000     1.000000     2.710000\n",
       "25%       7.000000  2017.000000     4.000000     8.000000     7.395000\n",
       "50%       8.100000  2019.000000     7.000000    16.000000     9.260000\n",
       "75%       9.700000  2020.000000    10.000000    23.000000    11.030000\n",
       "max      27.200000  2021.000000    12.000000    31.000000    19.590000"
      ]
     },
     "execution_count": 29,
     "metadata": {},
     "output_type": "execute_result"
    }
   ],
   "source": [
    "# Estatísticas descritivas para cada coluna\n",
    "features.describe()"
   ]
  },
  {
   "cell_type": "code",
   "execution_count": 30,
   "id": "e644f6c9",
   "metadata": {},
   "outputs": [],
   "source": [
    "# Codificando os dados usando pandas get_dummies\n",
    "features = pd.get_dummies(features)"
   ]
  },
  {
   "cell_type": "code",
   "execution_count": 31,
   "id": "e6347433",
   "metadata": {},
   "outputs": [],
   "source": [
    "#CURITIBA\n",
    "# Use numpy para converter em arrays \n",
    "import numpy as np\n",
    "# Labels são os valores que queremos prever \n",
    "labels = np.array(features['ECMWF'])\n",
    "# Remova os rótulos dos recursos \n",
    "# axis 1 refere-se às colunas \n",
    "features= features.drop('ECMWF', axis = 1)\n",
    "# Salvando nomes de recursos para uso posterior \n",
    "feature_list = list(features.columns)\n",
    "# Converta em recursos de matriz numpy \n",
    "features = np.array(features)"
   ]
  },
  {
   "cell_type": "code",
   "execution_count": 32,
   "id": "59beeda3",
   "metadata": {},
   "outputs": [],
   "source": [
    "# Skicit-learn para dividir dados em conjuntos de treinamento e teste\n",
    "from sklearn.model_selection import train_test_split\n",
    "# Divida os dados em conjuntos de treinamento e teste\n",
    "train_features, test_features, train_labels, test_labels = train_test_split(features, labels, test_size=0.33, random_state=42)"
   ]
  },
  {
   "cell_type": "code",
   "execution_count": 33,
   "id": "d6758cb7",
   "metadata": {
    "scrolled": true
   },
   "outputs": [
    {
     "name": "stdout",
     "output_type": "stream",
     "text": [
      "Training Features Shape: (1467, 4)\n",
      "Training Labels Shape: (1467,)\n",
      "Testing Features Shape: (724, 4)\n",
      "Testing Labels Shape: (724,)\n"
     ]
    }
   ],
   "source": [
    "print('Training Features Shape:', train_features.shape)\n",
    "print('Training Labels Shape:', train_labels.shape)\n",
    "print('Testing Features Shape:', test_features.shape)\n",
    "print('Testing Labels Shape:', test_labels.shape)"
   ]
  },
  {
   "cell_type": "code",
   "execution_count": 34,
   "id": "00e05557",
   "metadata": {},
   "outputs": [
    {
     "name": "stdout",
     "output_type": "stream",
     "text": [
      "valor baseline error:  2.93\n"
     ]
    }
   ],
   "source": [
    "# Dados da estação de curitiba para validação\n",
    "baseline_preds = test_features[:, feature_list.index('valor')]\n",
    "# Erros de linha de base e exibir erro de linha de base médio\n",
    "baseline_errors = abs(baseline_preds - test_labels)\n",
    "print('valor baseline error: ', round(np.mean(baseline_errors), 2))"
   ]
  },
  {
   "cell_type": "code",
   "execution_count": 35,
   "id": "f4f4cea5",
   "metadata": {},
   "outputs": [],
   "source": [
    "# Como estamos usando média histórica de 15 anos, usando modelo de regressão\n",
    "from sklearn.ensemble import RandomForestRegressor\n",
    "# Instanciar modelo com n árvores de decisão\n",
    "rf = RandomForestRegressor(n_estimators = 400, bootstrap=True,\n",
    "                           criterion ='absolute_error', max_depth = 4, random_state = 42)\n",
    "# Treinar o modelo em dados de treinamento\n",
    "rf.fit(train_features, train_labels);\n",
    "predictions = rf.predict(test_features)\n",
    "errors = abs(predictions - test_labels)"
   ]
  },
  {
   "cell_type": "code",
   "execution_count": 36,
   "id": "7eca84e9",
   "metadata": {},
   "outputs": [
    {
     "name": "stdout",
     "output_type": "stream",
     "text": [
      "Erro médio absoluto = 2.24\n",
      "Erro Quadrático Médio = 7.5\n",
      "Desvio médio absoluto = 1.92\n",
      "Accuracy: 71.42 %.\n"
     ]
    }
   ],
   "source": [
    "import sklearn.metrics as sm\n",
    "print(\"Erro médio absoluto =\", round(sm.mean_absolute_error(test_labels, predictions), 2)) \n",
    "print(\"Erro Quadrático Médio =\", round(sm.mean_squared_error(test_labels, predictions), 2)) \n",
    "print(\"Desvio médio absoluto =\", round(sm.median_absolute_error(test_labels, predictions), 2)) \n",
    "mape = 100 * (errors / test_labels)\n",
    "accuracy = 100 - np.mean(mape)\n",
    "print('Accuracy:', round(accuracy, 2), '%.')"
   ]
  },
  {
   "cell_type": "code",
   "execution_count": 37,
   "id": "7f882d33",
   "metadata": {},
   "outputs": [
    {
     "name": "stdout",
     "output_type": "stream",
     "text": [
      "Variable: valor                Importance: 0.34\n",
      "Variable: month                Importance: 0.32\n",
      "Variable: day                  Importance: 0.23\n",
      "Variable: year                 Importance: 0.1\n"
     ]
    }
   ],
   "source": [
    "#feature importances\n",
    "importances = list(rf.feature_importances_)\n",
    "feature_importances = [(feature, round(importance, 2)) for feature, importance in zip(feature_list, importances)]\n",
    "feature_importances = sorted(feature_importances, key = lambda x: x[1], reverse = True)\n",
    "[print('Variable: {:20} Importance: {}'.format(*pair)) for pair in feature_importances];"
   ]
  },
  {
   "cell_type": "code",
   "execution_count": 38,
   "id": "ced33ef6",
   "metadata": {},
   "outputs": [
    {
     "name": "stdout",
     "output_type": "stream",
     "text": [
      "Erro médio absoluto = 2.35\n",
      "Accuracy: 69.94 %.\n"
     ]
    }
   ],
   "source": [
    "rf_most_important = RandomForestRegressor(n_estimators= 100,max_features = 'log2', random_state=2)\n",
    "important_indices = [feature_list.index('valor')]\n",
    "train_important = train_features[:, important_indices]\n",
    "test_important = test_features[:, important_indices]\n",
    "rf_most_important.fit(train_important, train_labels)\n",
    "predictions = rf_most_important.predict(test_important)\n",
    "errors = abs(predictions - test_labels)\n",
    "print(\"Erro médio absoluto =\", round(sm.mean_absolute_error(test_labels, predictions), 2)) \n",
    "mape = 100 * (errors / test_labels)\n",
    "accuracy = 100 - np.mean(mape)\n",
    "print('Accuracy:', round(accuracy, 2), '%.')"
   ]
  },
  {
   "cell_type": "code",
   "execution_count": 39,
   "id": "c0ff447c",
   "metadata": {},
   "outputs": [
    {
     "data": {
      "image/png": "[encoded data removed]",
      "text/plain": [
       "<Figure size 432x288 with 1 Axes>"
      ]
     },
     "metadata": {},
     "output_type": "display_data"
    }
   ],
   "source": [
    "import matplotlib.pyplot as plt\n",
    "%matplotlib inline\n",
    "# Defina o estilo\n",
    "plt.style.use('ggplot')\n",
    "#lista de x locais para plotagem\n",
    "x_values = list(range(len(importances)))\n",
    "# Utilizando barras\n",
    "plt.bar(x_values, importances, orientation = 'vertical')\n",
    "# Marcar o eixo x\n",
    "plt.xticks(x_values, feature_list, rotation='vertical')\n",
    "# titulo\n",
    "plt.ylabel('Importância'); plt.xlabel('Variáveis'); plt.title('Variáveis Importância');"
   ]
  },
  {
   "cell_type": "code",
   "execution_count": 40,
   "id": "37552cd1",
   "metadata": {},
   "outputs": [
    {
     "data": {
      "image/png": "[encoded data removed]",
      "text/plain": [
       "<Figure size 432x288 with 1 Axes>"
      ]
     },
     "metadata": {},
     "output_type": "display_data"
    }
   ],
   "source": [
    "import datetime\n",
    "#Datas dos valores de treinamento\n",
    "from datetime import datetime, timedelta\n",
    "months = features[:, feature_list.index('month')]\n",
    "days = features[:, feature_list.index('day')]\n",
    "years = features[:, feature_list.index('year')]\n",
    "#Listando e depois convertendo para objeto\n",
    "dates = [str(int(year)) + '-' + str(int(month)) + '-' + str(int(day)) for year, month, day in zip(years, months, days)]\n",
    "dates = [datetime.strptime(date, '%Y-%m-%d') for date in dates]\n",
    "# Dataframe com valores e datas verdadeiros\n",
    "true_data = pd.DataFrame(data = {'date': dates, 'valor': labels})\n",
    "#Datas de previsões\n",
    "months = test_features[:, feature_list.index('month')]\n",
    "days = test_features[:, feature_list.index('day')]\n",
    "years = test_features[:, feature_list.index('year')]\n",
    "#Colunas de datas\n",
    "test_dates = [str(int(year)) + '-' + str(int(month)) + '-' + str(int(day)) for year, month, day in zip(years, months, days)]\n",
    "#Convertendo  to datetime objects\n",
    "test_dates = [datetime.strptime(date, '%Y-%m-%d') for date in test_dates]\n",
    "#Dataframe com previsões e datas\n",
    "predictions_data = pd.DataFrame(data = {'date': test_dates, 'prediction': predictions})\n",
    "# Plote os valores reais\n",
    "plt.plot(true_data['date'], true_data['valor'], 'b-', label = 'Valor atual')\n",
    "# Plote os valores previstos\n",
    "plt.plot(predictions_data['date'], predictions_data['prediction'], 'ro', label = 'Valores Previstos')\n",
    "plt.xticks(rotation = '60'); \n",
    "plt.legend()\n",
    "plt.xlabel('data'); plt.ylabel('Velocidade Máxima do Vento (m/s)'); plt.title('Valores das Estações e Valores Previstos');"
   ]
  },
  {
   "cell_type": "code",
   "execution_count": 41,
   "id": "aedd9e4b",
   "metadata": {},
   "outputs": [
    {
     "name": "stdout",
     "output_type": "stream",
     "text": [
      "MSE: 8.42\n"
     ]
    },
    {
     "data": {
      "image/png": "[encoded data removed]",
      "text/plain": [
       "<Figure size 432x288 with 1 Axes>"
      ]
     },
     "metadata": {},
     "output_type": "display_data"
    }
   ],
   "source": [
    "from sklearn.metrics import mean_squared_error\n",
    "mse = mean_squared_error(test_labels, predictions)\n",
    "\n",
    "print(\"MSE: %.2f\" % mse)\n",
    "\n",
    "\n",
    "#Finally, we'll visualize the original and predicted values in a plot.\n",
    "\n",
    "x_ax = range(len(test_labels))\n",
    "plt.scatter(x_ax, test_labels, s=5, color=\"blue\", label=\"original\")\n",
    "plt.plot(x_ax, predictions, lw=0.8, color=\"red\", label=\"predicted\")\n",
    "plt.legend()\n",
    "plt.show()"
   ]
  },
  {
   "cell_type": "code",
   "execution_count": 42,
   "id": "40264c7d",
   "metadata": {},
   "outputs": [
    {
     "name": "stdout",
     "output_type": "stream",
     "text": [
      "2022-06-05 14:54:41.495701\n",
      "2022-06-05 15:00:33.319920\n"
     ]
    }
   ],
   "source": [
    "from sklearn.model_selection import GridSearchCV\n",
    "## Define Grid \n",
    "grid = { 'n_estimators': [200,300,400,500],'max_features': ['sqrt','log2'],'max_depth' : [3,4,5,6,7],\n",
    "        'random_state' : [42]}\n",
    "## show start time\n",
    "print(datetime.now())\n",
    "## Grid Search function\n",
    "CV_rfr = GridSearchCV(estimator=RandomForestRegressor(), param_grid=grid, cv= 8)\n",
    "CV_rfr.fit(train_features, train_labels)\n",
    "## show end time\n",
    "print(datetime.now())"
   ]
  },
  {
   "cell_type": "code",
   "execution_count": 43,
   "id": "40e98d7d",
   "metadata": {},
   "outputs": [
    {
     "name": "stdout",
     "output_type": "stream",
     "text": [
      "Erro médio absoluto = 2.24\n",
      "Erro Quadrático Médio = 7.49\n",
      "Desvio médio absoluto = 1.94\n",
      "Accuracy: 71.2 %.\n"
     ]
    }
   ],
   "source": [
    "predictions2 = CV_rfr.predict(test_features)\n",
    "errors = abs(predictions2 - test_labels)\n",
    "print(\"Erro médio absoluto =\", round(sm.mean_absolute_error(test_labels, predictions2), 2)) \n",
    "print(\"Erro Quadrático Médio =\", round(sm.mean_squared_error(test_labels, predictions2), 2)) \n",
    "print(\"Desvio médio absoluto =\", round(sm.median_absolute_error(test_labels, predictions2), 2)) \n",
    "# Calculate mean absolute percentage error (MAPE)\n",
    "mape = 100 * (errors / test_labels)\n",
    "# Calculate and display accuracy\n",
    "accuracy = 100 - np.mean(mape)\n",
    "print('Accuracy:', round(accuracy, 2), '%.')"
   ]
  },
  {
   "cell_type": "code",
   "execution_count": null,
   "id": "3ee416dc",
   "metadata": {},
   "outputs": [],
   "source": []
  }
 ],
 "metadata": {
  "kernelspec": {
   "display_name": "Python 3 (ipykernel)",
   "language": "python",
   "name": "python3"
  },
  "language_info": {
   "codemirror_mode": {
    "name": "ipython",
    "version": 3
   },
   "file_extension": ".py",
   "mimetype": "text/x-python",
   "name": "python",
   "nbconvert_exporter": "python",
   "pygments_lexer": "ipython3",
   "version": "3.8.13"
  }
 },
 "nbformat": 4,
 "nbformat_minor": 5
}
