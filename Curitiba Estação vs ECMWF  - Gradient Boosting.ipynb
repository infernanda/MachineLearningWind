{
 "cells": [
  {
   "cell_type": "markdown",
   "id": "dde08e05",
   "metadata": {},
   "source": [
    "# Extraindo dados do simepar \n",
    "\n",
    "### Estação de Curitiba"
   ]
  },
  {
   "cell_type": "code",
   "execution_count": 2,
   "id": "8f804796",
   "metadata": {},
   "outputs": [],
   "source": [
    "import json, requests\n",
    "import pandas as pd\n",
    "from datetime import datetime, timedelta, date\n",
    "import datetime as dt\n",
    "url = \"http://www.simepar.br/simepar-services/sumariodiario\"\n",
    "#url = \"http://www.simepar.br/simepar-services/sumariohorario\"\n",
    "#url = \"http://www.simepar.br/simepar-services/sumariohorario\"\n",
    "params = {'datai': '2016-01-01', 'dataf': '2021-12-31', 'estacoes': '25264916', 'sensores': '9', 'operacoes': '2'}\n",
    "response = requests.get(url=url, params=params)\n",
    "data = response.json()\n",
    "features = pd.DataFrame.from_dict(data)\n",
    "features=features.sort_index(ascending=False)\n",
    "features['data'] = features['data'].apply(lambda x: dt.datetime.strptime(x,'%Y-%m-%d'))\n",
    "features['year'] = pd.DatetimeIndex(features['data']).year\n",
    "features['month'] = pd.DatetimeIndex(features['data']).month\n",
    "features['day'] = pd.DatetimeIndex(features['data']).day\n",
    "features = features.fillna(method='ffill')\n",
    "features['Estaçao'] = features['valor']\n",
    "features.drop(['data','estacaoId','sensorId','operacaoId','hora','minuto','valor'], axis=1, inplace=True)"
   ]
  },
  {
   "cell_type": "code",
   "execution_count": 3,
   "id": "96033e74",
   "metadata": {},
   "outputs": [],
   "source": [
    "import pandas as pd\n",
    "from datetime import datetime, timedelta, date\n",
    "import datetime as dt\n",
    "features2 = pd.read_csv('wind2016-2021teste.csv')\n",
    "features2=features2.sort_index(ascending=False)\n",
    "features['ECMWF'] = features2['wind_speed']"
   ]
  },
  {
   "cell_type": "code",
   "execution_count": 4,
   "id": "a97265de",
   "metadata": {},
   "outputs": [
    {
     "data": {
      "text/html": [
       "<div>\n",
       "<style scoped>\n",
       "    .dataframe tbody tr th:only-of-type {\n",
       "        vertical-align: middle;\n",
       "    }\n",
       "\n",
       "    .dataframe tbody tr th {\n",
       "        vertical-align: top;\n",
       "    }\n",
       "\n",
       "    .dataframe thead th {\n",
       "        text-align: right;\n",
       "    }\n",
       "</style>\n",
       "<table border=\"1\" class=\"dataframe\">\n",
       "  <thead>\n",
       "    <tr style=\"text-align: right;\">\n",
       "      <th></th>\n",
       "      <th>year</th>\n",
       "      <th>month</th>\n",
       "      <th>day</th>\n",
       "      <th>Estaçao</th>\n",
       "      <th>ECMWF</th>\n",
       "    </tr>\n",
       "  </thead>\n",
       "  <tbody>\n",
       "    <tr>\n",
       "      <th>2190</th>\n",
       "      <td>2016</td>\n",
       "      <td>1</td>\n",
       "      <td>1</td>\n",
       "      <td>7.8</td>\n",
       "      <td>10.95</td>\n",
       "    </tr>\n",
       "    <tr>\n",
       "      <th>2189</th>\n",
       "      <td>2016</td>\n",
       "      <td>1</td>\n",
       "      <td>2</td>\n",
       "      <td>7.5</td>\n",
       "      <td>8.84</td>\n",
       "    </tr>\n",
       "    <tr>\n",
       "      <th>2188</th>\n",
       "      <td>2016</td>\n",
       "      <td>1</td>\n",
       "      <td>3</td>\n",
       "      <td>8.6</td>\n",
       "      <td>6.71</td>\n",
       "    </tr>\n",
       "    <tr>\n",
       "      <th>2187</th>\n",
       "      <td>2016</td>\n",
       "      <td>1</td>\n",
       "      <td>4</td>\n",
       "      <td>8.1</td>\n",
       "      <td>5.18</td>\n",
       "    </tr>\n",
       "    <tr>\n",
       "      <th>2186</th>\n",
       "      <td>2016</td>\n",
       "      <td>1</td>\n",
       "      <td>5</td>\n",
       "      <td>7.4</td>\n",
       "      <td>8.87</td>\n",
       "    </tr>\n",
       "    <tr>\n",
       "      <th>...</th>\n",
       "      <td>...</td>\n",
       "      <td>...</td>\n",
       "      <td>...</td>\n",
       "      <td>...</td>\n",
       "      <td>...</td>\n",
       "    </tr>\n",
       "    <tr>\n",
       "      <th>4</th>\n",
       "      <td>2021</td>\n",
       "      <td>12</td>\n",
       "      <td>27</td>\n",
       "      <td>8.5</td>\n",
       "      <td>13.39</td>\n",
       "    </tr>\n",
       "    <tr>\n",
       "      <th>3</th>\n",
       "      <td>2021</td>\n",
       "      <td>12</td>\n",
       "      <td>28</td>\n",
       "      <td>10.3</td>\n",
       "      <td>11.89</td>\n",
       "    </tr>\n",
       "    <tr>\n",
       "      <th>2</th>\n",
       "      <td>2021</td>\n",
       "      <td>12</td>\n",
       "      <td>29</td>\n",
       "      <td>10.2</td>\n",
       "      <td>9.94</td>\n",
       "    </tr>\n",
       "    <tr>\n",
       "      <th>1</th>\n",
       "      <td>2021</td>\n",
       "      <td>12</td>\n",
       "      <td>30</td>\n",
       "      <td>7.7</td>\n",
       "      <td>8.20</td>\n",
       "    </tr>\n",
       "    <tr>\n",
       "      <th>0</th>\n",
       "      <td>2021</td>\n",
       "      <td>12</td>\n",
       "      <td>31</td>\n",
       "      <td>6.2</td>\n",
       "      <td>9.49</td>\n",
       "    </tr>\n",
       "  </tbody>\n",
       "</table>\n",
       "<p>2191 rows × 5 columns</p>\n",
       "</div>"
      ],
      "text/plain": [
       "      year  month  day  Estaçao  ECMWF\n",
       "2190  2016      1    1      7.8  10.95\n",
       "2189  2016      1    2      7.5   8.84\n",
       "2188  2016      1    3      8.6   6.71\n",
       "2187  2016      1    4      8.1   5.18\n",
       "2186  2016      1    5      7.4   8.87\n",
       "...    ...    ...  ...      ...    ...\n",
       "4     2021     12   27      8.5  13.39\n",
       "3     2021     12   28     10.3  11.89\n",
       "2     2021     12   29     10.2   9.94\n",
       "1     2021     12   30      7.7   8.20\n",
       "0     2021     12   31      6.2   9.49\n",
       "\n",
       "[2191 rows x 5 columns]"
      ]
     },
     "execution_count": 4,
     "metadata": {},
     "output_type": "execute_result"
    }
   ],
   "source": [
    "features"
   ]
  },
  {
   "cell_type": "code",
   "execution_count": 5,
   "id": "7da84ad6",
   "metadata": {},
   "outputs": [
    {
     "data": {
      "text/html": [
       "<div>\n",
       "<style scoped>\n",
       "    .dataframe tbody tr th:only-of-type {\n",
       "        vertical-align: middle;\n",
       "    }\n",
       "\n",
       "    .dataframe tbody tr th {\n",
       "        vertical-align: top;\n",
       "    }\n",
       "\n",
       "    .dataframe thead th {\n",
       "        text-align: right;\n",
       "    }\n",
       "</style>\n",
       "<table border=\"1\" class=\"dataframe\">\n",
       "  <thead>\n",
       "    <tr style=\"text-align: right;\">\n",
       "      <th></th>\n",
       "      <th>year</th>\n",
       "      <th>month</th>\n",
       "      <th>day</th>\n",
       "      <th>Estaçao</th>\n",
       "      <th>ECMWF</th>\n",
       "    </tr>\n",
       "  </thead>\n",
       "  <tbody>\n",
       "    <tr>\n",
       "      <th>2190</th>\n",
       "      <td>2016</td>\n",
       "      <td>1</td>\n",
       "      <td>1</td>\n",
       "      <td>7.8</td>\n",
       "      <td>10.95</td>\n",
       "    </tr>\n",
       "    <tr>\n",
       "      <th>2189</th>\n",
       "      <td>2016</td>\n",
       "      <td>1</td>\n",
       "      <td>2</td>\n",
       "      <td>7.5</td>\n",
       "      <td>8.84</td>\n",
       "    </tr>\n",
       "  </tbody>\n",
       "</table>\n",
       "</div>"
      ],
      "text/plain": [
       "      year  month  day  Estaçao  ECMWF\n",
       "2190  2016      1    1      7.8  10.95\n",
       "2189  2016      1    2      7.5   8.84"
      ]
     },
     "execution_count": 5,
     "metadata": {},
     "output_type": "execute_result"
    }
   ],
   "source": [
    "features.head(2)"
   ]
  },
  {
   "cell_type": "markdown",
   "id": "c1a1fe38",
   "metadata": {},
   "source": [
    "# Iniciando o Random Forest"
   ]
  },
  {
   "cell_type": "code",
   "execution_count": 6,
   "id": "1ae238d5",
   "metadata": {},
   "outputs": [
    {
     "name": "stdout",
     "output_type": "stream",
     "text": [
      "The shape of our features is: (2191, 5)\n"
     ]
    }
   ],
   "source": [
    "print('The shape of our features is:', features.shape)"
   ]
  },
  {
   "cell_type": "code",
   "execution_count": 7,
   "id": "b1ffb349",
   "metadata": {},
   "outputs": [
    {
     "data": {
      "text/html": [
       "<div>\n",
       "<style scoped>\n",
       "    .dataframe tbody tr th:only-of-type {\n",
       "        vertical-align: middle;\n",
       "    }\n",
       "\n",
       "    .dataframe tbody tr th {\n",
       "        vertical-align: top;\n",
       "    }\n",
       "\n",
       "    .dataframe thead th {\n",
       "        text-align: right;\n",
       "    }\n",
       "</style>\n",
       "<table border=\"1\" class=\"dataframe\">\n",
       "  <thead>\n",
       "    <tr style=\"text-align: right;\">\n",
       "      <th></th>\n",
       "      <th>year</th>\n",
       "      <th>month</th>\n",
       "      <th>day</th>\n",
       "      <th>Estaçao</th>\n",
       "      <th>ECMWF</th>\n",
       "    </tr>\n",
       "  </thead>\n",
       "  <tbody>\n",
       "    <tr>\n",
       "      <th>count</th>\n",
       "      <td>2191.000000</td>\n",
       "      <td>2191.000000</td>\n",
       "      <td>2191.000000</td>\n",
       "      <td>2191.000000</td>\n",
       "      <td>2191.000000</td>\n",
       "    </tr>\n",
       "    <tr>\n",
       "      <th>mean</th>\n",
       "      <td>2018.499772</td>\n",
       "      <td>6.521680</td>\n",
       "      <td>15.739388</td>\n",
       "      <td>8.589457</td>\n",
       "      <td>9.281698</td>\n",
       "    </tr>\n",
       "    <tr>\n",
       "      <th>std</th>\n",
       "      <td>1.708928</td>\n",
       "      <td>3.450546</td>\n",
       "      <td>8.799756</td>\n",
       "      <td>2.482813</td>\n",
       "      <td>2.710853</td>\n",
       "    </tr>\n",
       "    <tr>\n",
       "      <th>min</th>\n",
       "      <td>2016.000000</td>\n",
       "      <td>1.000000</td>\n",
       "      <td>1.000000</td>\n",
       "      <td>3.200000</td>\n",
       "      <td>2.710000</td>\n",
       "    </tr>\n",
       "    <tr>\n",
       "      <th>25%</th>\n",
       "      <td>2017.000000</td>\n",
       "      <td>4.000000</td>\n",
       "      <td>8.000000</td>\n",
       "      <td>7.000000</td>\n",
       "      <td>7.395000</td>\n",
       "    </tr>\n",
       "    <tr>\n",
       "      <th>50%</th>\n",
       "      <td>2019.000000</td>\n",
       "      <td>7.000000</td>\n",
       "      <td>16.000000</td>\n",
       "      <td>8.100000</td>\n",
       "      <td>9.260000</td>\n",
       "    </tr>\n",
       "    <tr>\n",
       "      <th>75%</th>\n",
       "      <td>2020.000000</td>\n",
       "      <td>10.000000</td>\n",
       "      <td>23.000000</td>\n",
       "      <td>9.700000</td>\n",
       "      <td>11.030000</td>\n",
       "    </tr>\n",
       "    <tr>\n",
       "      <th>max</th>\n",
       "      <td>2021.000000</td>\n",
       "      <td>12.000000</td>\n",
       "      <td>31.000000</td>\n",
       "      <td>27.200000</td>\n",
       "      <td>19.590000</td>\n",
       "    </tr>\n",
       "  </tbody>\n",
       "</table>\n",
       "</div>"
      ],
      "text/plain": [
       "              year        month          day      Estaçao        ECMWF\n",
       "count  2191.000000  2191.000000  2191.000000  2191.000000  2191.000000\n",
       "mean   2018.499772     6.521680    15.739388     8.589457     9.281698\n",
       "std       1.708928     3.450546     8.799756     2.482813     2.710853\n",
       "min    2016.000000     1.000000     1.000000     3.200000     2.710000\n",
       "25%    2017.000000     4.000000     8.000000     7.000000     7.395000\n",
       "50%    2019.000000     7.000000    16.000000     8.100000     9.260000\n",
       "75%    2020.000000    10.000000    23.000000     9.700000    11.030000\n",
       "max    2021.000000    12.000000    31.000000    27.200000    19.590000"
      ]
     },
     "execution_count": 7,
     "metadata": {},
     "output_type": "execute_result"
    }
   ],
   "source": [
    "# Estatísticas descritivas para cada coluna\n",
    "features.describe()"
   ]
  },
  {
   "cell_type": "code",
   "execution_count": 8,
   "id": "e644f6c9",
   "metadata": {},
   "outputs": [],
   "source": [
    "# Codificando os dados usando pandas get_dummies\n",
    "features = pd.get_dummies(features)"
   ]
  },
  {
   "cell_type": "code",
   "execution_count": 9,
   "id": "e6347433",
   "metadata": {},
   "outputs": [],
   "source": [
    "#CURITIBA\n",
    "# Use numpy para converter em arrays \n",
    "import numpy as np\n",
    "# Labels são os valores que queremos prever \n",
    "labels = np.array(features['ECMWF'])\n",
    "# Remova os rótulos dos recursos \n",
    "# axis 1 refere-se às colunas \n",
    "features= features.drop('ECMWF', axis = 1)\n",
    "# Salvando nomes de recursos para uso posterior \n",
    "feature_list = list(features.columns)\n",
    "# Converta em recursos de matriz numpy \n",
    "features = np.array(features)"
   ]
  },
  {
   "cell_type": "code",
   "execution_count": 10,
   "id": "59beeda3",
   "metadata": {},
   "outputs": [],
   "source": [
    "# Skicit-learn para dividir dados em conjuntos de treinamento e teste\n",
    "from sklearn.model_selection import train_test_split\n",
    "# Divida os dados em conjuntos de treinamento e teste\n",
    "train_features, test_features, train_labels, test_labels = train_test_split(features, labels, test_size = 0.25, random_state = 0)"
   ]
  },
  {
   "cell_type": "code",
   "execution_count": 11,
   "id": "d6758cb7",
   "metadata": {
    "scrolled": true
   },
   "outputs": [
    {
     "name": "stdout",
     "output_type": "stream",
     "text": [
      "Training Features Shape: (1643, 4)\n",
      "Training Labels Shape: (1643,)\n",
      "Testing Features Shape: (548, 4)\n",
      "Testing Labels Shape: (548,)\n"
     ]
    }
   ],
   "source": [
    "print('Training Features Shape:', train_features.shape)\n",
    "print('Training Labels Shape:', train_labels.shape)\n",
    "print('Testing Features Shape:', test_features.shape)\n",
    "print('Testing Labels Shape:', test_labels.shape)"
   ]
  },
  {
   "cell_type": "code",
   "execution_count": 12,
   "id": "00e05557",
   "metadata": {},
   "outputs": [
    {
     "name": "stdout",
     "output_type": "stream",
     "text": [
      "valor baseline error:  2.9\n"
     ]
    }
   ],
   "source": [
    "# Dados da estação de Ponta GroSsa para validação\n",
    "baseline_preds = test_features[:, feature_list.index('Estaçao')]\n",
    "# Erros de linha de base e exibir erro de linha de base médio\n",
    "baseline_errors = abs(baseline_preds - test_labels)\n",
    "print('valor baseline error: ', round(np.mean(baseline_errors), 2))"
   ]
  },
  {
   "cell_type": "code",
   "execution_count": 13,
   "id": "f4f4cea5",
   "metadata": {},
   "outputs": [],
   "source": [
    "from xgboost import XGBRegressor\n",
    "rf = XGBRegressor(n_estimators=300,max_depth = 3,random_state =0,learning_rate= 0.01)\n",
    "rf.fit(train_features, train_labels);\n",
    "predictions = rf.predict(test_features)\n",
    "errors = abs(predictions - test_labels)"
   ]
  },
  {
   "cell_type": "code",
   "execution_count": 14,
   "id": "7eca84e9",
   "metadata": {},
   "outputs": [
    {
     "name": "stdout",
     "output_type": "stream",
     "text": [
      "Erro médio absoluto = 2.09\n",
      "Erro Quadrático Médio = 6.97\n",
      "Desvio médio absoluto = 1.74\n",
      "Acurácia: 73.73 %.\n"
     ]
    }
   ],
   "source": [
    "import sklearn.metrics as sm\n",
    "print(\"Erro médio absoluto =\", round(sm.mean_absolute_error(test_labels, predictions), 2)) \n",
    "print(\"Erro Quadrático Médio =\", round(sm.mean_squared_error(test_labels, predictions), 2)) \n",
    "print(\"Desvio médio absoluto =\", round(sm.median_absolute_error(test_labels, predictions), 2)) \n",
    "mape = 100 * (errors / test_labels)\n",
    "accuracy = 100 - np.mean(mape)\n",
    "print('Acurácia:', round(accuracy, 2), '%.')"
   ]
  },
  {
   "cell_type": "code",
   "execution_count": 15,
   "id": "7f882d33",
   "metadata": {},
   "outputs": [
    {
     "name": "stdout",
     "output_type": "stream",
     "text": [
      "Variable: month                Importance: 0.5099999904632568\n",
      "Variable: Estaçao              Importance: 0.17000000178813934\n",
      "Variable: year                 Importance: 0.1599999964237213\n",
      "Variable: day                  Importance: 0.1599999964237213\n"
     ]
    }
   ],
   "source": [
    "#feature importances\n",
    "importances = list(rf.feature_importances_)\n",
    "feature_importances = [(feature, round(importance, 2)) for feature, importance in zip(feature_list, importances)]\n",
    "feature_importances = sorted(feature_importances, key = lambda x: x[1], reverse = True)\n",
    "[print('Variable: {:20} Importance: {}'.format(*pair)) for pair in feature_importances];"
   ]
  },
  {
   "cell_type": "code",
   "execution_count": 16,
   "id": "ced33ef6",
   "metadata": {},
   "outputs": [
    {
     "name": "stdout",
     "output_type": "stream",
     "text": [
      "Erro médio absoluto = 2.16\n",
      "Acurácia: 71.35 %.\n"
     ]
    }
   ],
   "source": [
    "rf_most_important = XGBRegressor(n_estimators= 100, random_state=0)\n",
    "important_indices = [feature_list.index('Estaçao')]\n",
    "train_important = train_features[:, important_indices]\n",
    "test_important = test_features[:, important_indices]\n",
    "rf_most_important.fit(train_important, train_labels)\n",
    "predictions = rf_most_important.predict(test_important)\n",
    "errors = abs(predictions - test_labels)\n",
    "print(\"Erro médio absoluto =\", round(sm.mean_absolute_error(test_labels, predictions), 2)) \n",
    "mape = 100 * (errors / test_labels)\n",
    "accuracy = 100 - np.mean(mape)\n",
    "print('Acurácia:', round(accuracy, 2), '%.')"
   ]
  },
  {
   "cell_type": "code",
   "execution_count": 17,
   "id": "c0ff447c",
   "metadata": {},
   "outputs": [
    {
     "data": {
      "image/png": "[encoded data removed]",
      "text/plain": [
       "<Figure size 432x288 with 1 Axes>"
      ]
     },
     "metadata": {},
     "output_type": "display_data"
    }
   ],
   "source": [
    "import matplotlib.pyplot as plt\n",
    "%matplotlib inline\n",
    "# Defina o estilo\n",
    "plt.style.use('ggplot')\n",
    "#lista de x locais para plotagem\n",
    "x_values = list(range(len(importances)))\n",
    "# Utilizando barras\n",
    "plt.bar(x_values, importances, orientation = 'vertical')\n",
    "# Marcar o eixo x\n",
    "plt.xticks(x_values, feature_list, rotation='vertical')\n",
    "# titulo\n",
    "plt.ylabel('Importância'); plt.xlabel('Variáveis'); plt.title('Variáveis Importância');"
   ]
  },
  {
   "cell_type": "code",
   "execution_count": 18,
   "id": "37552cd1",
   "metadata": {},
   "outputs": [
    {
     "data": {
      "image/png": "[encoded data removed]",
      "text/plain": [
       "<Figure size 432x288 with 1 Axes>"
      ]
     },
     "metadata": {},
     "output_type": "display_data"
    }
   ],
   "source": [
    "import datetime\n",
    "#Datas dos valores de treinamento\n",
    "from datetime import datetime, timedelta\n",
    "months = features[:, feature_list.index('month')]\n",
    "days = features[:, feature_list.index('day')]\n",
    "years = features[:, feature_list.index('year')]\n",
    "#Listando e depois convertendo para objeto\n",
    "dates = [str(int(year)) + '-' + str(int(month)) + '-' + str(int(day)) for year, month, day in zip(years, months, days)]\n",
    "dates = [datetime.strptime(date, '%Y-%m-%d') for date in dates]\n",
    "# Dataframe com valores e datas verdadeiros\n",
    "true_data = pd.DataFrame(data = {'date': dates, 'valor': labels})\n",
    "#Datas de previsões\n",
    "months = test_features[:, feature_list.index('month')]\n",
    "days = test_features[:, feature_list.index('day')]\n",
    "years = test_features[:, feature_list.index('year')]\n",
    "#Colunas de datas\n",
    "test_dates = [str(int(year)) + '-' + str(int(month)) + '-' + str(int(day)) for year, month, day in zip(years, months, days)]\n",
    "#Convertendo  to datetime objects\n",
    "test_dates = [datetime.strptime(date, '%Y-%m-%d') for date in test_dates]\n",
    "#Dataframe com previsões e datas\n",
    "predictions_data = pd.DataFrame(data = {'date': test_dates, 'prediction': predictions})\n",
    "# Plote os valores reais\n",
    "plt.plot(true_data['date'], true_data['valor'], 'b-', label = 'Valor atual')\n",
    "# Plote os valores previstos\n",
    "plt.plot(predictions_data['date'], predictions_data['prediction'], 'ro', label = 'Valores Previstos')\n",
    "plt.xticks(rotation = '60'); \n",
    "plt.legend()\n",
    "plt.xlabel('data'); plt.ylabel('Velocidade Máxima do Vento (m/s)'); plt.title('Valores das Estações e Valores Previstos');"
   ]
  },
  {
   "cell_type": "code",
   "execution_count": 19,
   "id": "aedd9e4b",
   "metadata": {},
   "outputs": [
    {
     "name": "stdout",
     "output_type": "stream",
     "text": [
      "MSE: 7.63\n"
     ]
    },
    {
     "data": {
      "image/png": "[encoded data removed]",
      "text/plain": [
       "<Figure size 432x288 with 1 Axes>"
      ]
     },
     "metadata": {},
     "output_type": "display_data"
    }
   ],
   "source": [
    "from sklearn.metrics import mean_squared_error\n",
    "mse = mean_squared_error(test_labels, predictions)\n",
    "\n",
    "print(\"MSE: %.2f\" % mse)\n",
    "\n",
    "\n",
    "#Finally, we'll visualize the original and predicted values in a plot.\n",
    "\n",
    "x_ax = range(len(test_labels))\n",
    "plt.scatter(x_ax, test_labels, s=5, color=\"blue\", label=\"original\")\n",
    "plt.plot(x_ax, predictions, lw=0.8, color=\"red\", label=\"predicted\")\n",
    "plt.legend()\n",
    "plt.show()"
   ]
  },
  {
   "cell_type": "code",
   "execution_count": null,
   "id": "40e98d7d",
   "metadata": {},
   "outputs": [],
   "source": []
  },
  {
   "cell_type": "code",
   "execution_count": null,
   "id": "6189843f",
   "metadata": {},
   "outputs": [],
   "source": []
  }
 ],
 "metadata": {
  "kernelspec": {
   "display_name": "Python 3 (ipykernel)",
   "language": "python",
   "name": "python3"
  },
  "language_info": {
   "codemirror_mode": {
    "name": "ipython",
    "version": 3
   },
   "file_extension": ".py",
   "mimetype": "text/x-python",
   "name": "python",
   "nbconvert_exporter": "python",
   "pygments_lexer": "ipython3",
   "version": "3.8.13"
  }
 },
 "nbformat": 4,
 "nbformat_minor": 5
}
